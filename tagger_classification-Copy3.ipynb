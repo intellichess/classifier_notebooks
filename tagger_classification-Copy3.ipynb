{
 "cells": [
  {
   "cell_type": "code",
   "execution_count": 1,
   "metadata": {},
   "outputs": [
    {
     "name": "stderr",
     "output_type": "stream",
     "text": [
      "E:\\Anaconda2\\lib\\site-packages\\sklearn\\cross_validation.py:41: DeprecationWarning: This module was deprecated in version 0.18 in favor of the model_selection module into which all the refactored classes and functions are moved. Also note that the interface of the new CV iterators are different from that of this module. This module will be removed in 0.20.\n",
      "  \"This module will be removed in 0.20.\", DeprecationWarning)\n"
     ]
    }
   ],
   "source": [
    "from sklearn.ensemble import RandomForestClassifier\n",
    "from sklearn.cross_validation import train_test_split\n",
    "from sklearn.preprocessing import StandardScaler, LabelEncoder\n",
    "import matplotlib.pyplot as plt\n",
    "import numpy as np\n",
    "\n",
    "\n",
    "import pandas as pd"
   ]
  },
  {
   "cell_type": "code",
   "execution_count": 2,
   "metadata": {
    "collapsed": true
   },
   "outputs": [],
   "source": [
    "aggro = pd.read_csv(\"aggressive.csv\")\n",
    "defen = pd.read_csv(\"defensive.csv\")"
   ]
  },
  {
   "cell_type": "code",
   "execution_count": 3,
   "metadata": {},
   "outputs": [
    {
     "name": "stdout",
     "output_type": "stream",
     "text": [
      "        Event Site        Date Round                White  \\\n",
      "0  Earl tourn    ?  1906.??.??     ?               Savrov   \n",
      "1  Earl tourn    ?  1906.??.??     ?                Giese   \n",
      "2  Earl tourn    ?  1906.??.??     ?  Alekhine, Alexander   \n",
      "3  Earl tourn    ?  1906.??.??     ?  Alekhine, Alexander   \n",
      "4  Earl tourn    ?  1906.??.??     ?            Manko, V.   \n",
      "\n",
      "                 Black  Result  BlackElo  WhiteElo  ECO  Move Count  \\\n",
      "0  Alekhine, Alexander     0-1       NaN       NaN  C30          44   \n",
      "1  Alekhine, Alexander     0-1       NaN       NaN  C47          17   \n",
      "2         Ljubimov, T.  Jan-00       NaN       NaN  C58          38   \n",
      "3           Romaskevic  Jan-00       NaN       NaN  C20          18   \n",
      "4  Alekhine, Alexander  Jan-00       NaN       NaN  C52          35   \n",
      "\n",
      "   Average Material Threatened  Gambit Count  Check Count  \\\n",
      "0                     1.840909             0            8   \n",
      "1                     1.235294             0            1   \n",
      "2                     1.815789             1            4   \n",
      "3                     2.222222             0            1   \n",
      "4                     1.057143             1            0   \n",
      "\n",
      "   Average Board Evaluation  Aggressive  \n",
      "0                  7.381818           1  \n",
      "1                 11.405882           1  \n",
      "2                  8.894737           1  \n",
      "3                  6.811111           1  \n",
      "4                  2.788571           1  \n"
     ]
    }
   ],
   "source": [
    "# aggro.drop([\"Unnamed: 0\"], axis=1)\n",
    "print aggro.head()"
   ]
  },
  {
   "cell_type": "code",
   "execution_count": 4,
   "metadata": {},
   "outputs": [
    {
     "name": "stdout",
     "output_type": "stream",
     "text": [
      "   Average Board Evaluation  Average Material Threatened               Black  \\\n",
      "0                  4.551111                     1.888889  Anand, Viswanathan   \n",
      "1                  4.768966                     2.362069  Anand, Viswanathan   \n",
      "2                  9.956000                     2.880000  Anand, Viswanathan   \n",
      "3                  5.188000                     1.320000       Siddiqui, MA.   \n",
      "4                  6.069565                     3.217391           Shah, SP.   \n",
      "\n",
      "   BlackElo BlackTeam BlackTeamCountry  Check Count        Date  ECO  \\\n",
      "0       NaN       NaN              NaN           11  1981/12/??  C42   \n",
      "1       NaN       NaN              NaN            0  1982/??/??  B43   \n",
      "2       NaN       NaN              NaN            1  1982/??/??  E87   \n",
      "3       NaN       NaN              NaN            8  1982/01/??  B06   \n",
      "4       NaN       NaN              NaN            1  1983/10/??  B98   \n",
      "\n",
      "                             Event    ...      Round SetUp        Site  \\\n",
      "0                        Junior-ch    ...          ?   NaN  Tamil Nadu   \n",
      "1  District Team Championship T.N.    ...          ?   NaN       India   \n",
      "2                        Junior-ch    ...          ?   NaN  Tamil Nadu   \n",
      "3                   IND-ch Juniors    ...          ?   NaN     Dharwad   \n",
      "4            National Subjunior-ch    ...          ?   NaN       India   \n",
      "\n",
      "      Source  SourceDate               White  WhiteElo  WhiteTeam  \\\n",
      "0  ChessBase  11/26/2011       Aaron, Arvind       NaN        NaN   \n",
      "1  ChessBase  11/26/2011       Aaron, Manuel       NaN        NaN   \n",
      "2  ChessBase  11/26/2011        Sridhar, NR.       NaN        NaN   \n",
      "3  ChessBase  11/26/2011  Anand, Viswanathan       NaN        NaN   \n",
      "4  ChessBase  11/26/2011  Anand, Viswanathan       NaN        NaN   \n",
      "\n",
      "   WhiteTeamCountry Aggressive  \n",
      "0               NaN          0  \n",
      "1               NaN          0  \n",
      "2               NaN          0  \n",
      "3               NaN          0  \n",
      "4               NaN          0  \n",
      "\n",
      "[5 rows x 30 columns]\n"
     ]
    }
   ],
   "source": [
    "print defen.head()"
   ]
  },
  {
   "cell_type": "code",
   "execution_count": 5,
   "metadata": {},
   "outputs": [
    {
     "name": "stdout",
     "output_type": "stream",
     "text": [
      "Index([u'Aggressive', u'Average Board Evaluation',\n",
      "       u'Average Material Threatened', u'Check Count', u'ECO', u'Gambit Count',\n",
      "       u'Move Count'],\n",
      "      dtype='object')\n"
     ]
    }
   ],
   "source": [
    "total = pd.concat([aggro, defen])\n",
    "drops = [\"Black\", \"BlackElo\", \"BlackTeam\", \"BlackTeamCountry\", \"Date\", \"Event\", \n",
    "         \"EventCategory\", \"EventCountry\", \"EventDate\", \"EventRounds\", \"EventType\", \"FEN\", \"PlyCount\", \"Result\",\n",
    "        \"Round\", \"SetUp\", \"Site\", \"Source\", \"SourceDate\", \"White\", \"WhiteElo\", \"WhiteTeam\", \"WhiteTeamCountry\"]\n",
    "total = total.drop(drops, axis=1)\n",
    "\n",
    "number = LabelEncoder()\n",
    "total[\"ECO\"] = number.fit_transform(total[\"ECO\"].astype('str'))\n",
    "print total.columns"
   ]
  },
  {
   "cell_type": "code",
   "execution_count": 6,
   "metadata": {},
   "outputs": [
    {
     "name": "stdout",
     "output_type": "stream",
     "text": [
      "       Average Board Evaluation  Average Material Threatened  Check Count  \\\n",
      "0                      7.381818                     1.840909            8   \n",
      "1                     11.405882                     1.235294            1   \n",
      "2                      8.894737                     1.815789            4   \n",
      "3                      6.811111                     2.222222            1   \n",
      "4                      2.788571                     1.057143            0   \n",
      "5                      5.785185                     2.777778            3   \n",
      "6                      7.994118                     2.264706            0   \n",
      "7                      5.163636                     2.000000            0   \n",
      "8                      4.066667                     0.866667            0   \n",
      "9                      4.160000                     1.320000            4   \n",
      "10                     4.534483                     1.206897            0   \n",
      "11                     3.630435                     2.478261            0   \n",
      "12                     3.550000                     1.238095            2   \n",
      "13                     8.696667                     1.300000            3   \n",
      "14                     8.846667                     0.200000            0   \n",
      "15                     8.010714                     4.285714            1   \n",
      "16                     6.408333                     1.472222            4   \n",
      "17                     9.245238                     2.404762            6   \n",
      "18                     6.757576                     1.878788            3   \n",
      "19                     2.075000                     1.944444            0   \n",
      "20                     7.342857                     1.857143            4   \n",
      "21                     6.821875                     1.156250            0   \n",
      "22                     7.289655                     2.724138            3   \n",
      "23                     6.284375                     1.281250            0   \n",
      "24                     8.409859                     1.422535            3   \n",
      "25                     5.580000                     2.200000            1   \n",
      "26                     9.583333                     1.933333            4   \n",
      "27                     5.574074                     1.037037            4   \n",
      "28                     4.381818                     1.136364            8   \n",
      "29                     7.935294                     1.352941            7   \n",
      "...                         ...                          ...          ...   \n",
      "11543                  9.416667                     0.722222            0   \n",
      "11544                  7.019149                     1.680851            1   \n",
      "11545                  6.857143                     3.357143            1   \n",
      "11546                  6.747826                     0.608696            0   \n",
      "11547                  5.286667                     1.488889            0   \n",
      "11548                  7.784615                     1.538462            0   \n",
      "11549                  6.734483                     1.931034            1   \n",
      "11550                  7.294444                     1.388889            0   \n",
      "11551                  7.112500                     0.812500            0   \n",
      "11552                  8.642105                     1.263158            0   \n",
      "11553                  8.139024                     1.439024            0   \n",
      "11554                  7.750000                     1.450000            1   \n",
      "11555                  4.597183                     1.112676            3   \n",
      "11556                  7.078261                     1.478261            0   \n",
      "11557                  5.933333                     1.777778            0   \n",
      "11558                  6.188889                     1.888889            0   \n",
      "11559                  7.834783                     1.260870            0   \n",
      "11560                  6.100000                     2.428571            0   \n",
      "11561                  8.492500                     1.350000            0   \n",
      "11562                  7.637037                     1.851852            0   \n",
      "11563                  7.120000                     0.533333            0   \n",
      "11564                  7.315789                     1.368421            1   \n",
      "11565                  6.578571                     0.928571            0   \n",
      "11566                  6.482353                     1.588235            0   \n",
      "11567                  7.297619                     1.119048            0   \n",
      "11568                  4.736364                     0.909091            1   \n",
      "11569                  6.952174                     1.956522            1   \n",
      "11570                  4.907500                     0.775000            2   \n",
      "11571                  7.982609                     2.000000            1   \n",
      "11572                 11.210345                     1.965517            2   \n",
      "\n",
      "       ECO  Gambit Count  Move Count  \n",
      "0      317             0          44  \n",
      "1      339             0          17  \n",
      "2      350             1          38  \n",
      "3      307             0          18  \n",
      "4      344             1          35  \n",
      "5      344             1          27  \n",
      "6      309             2          34  \n",
      "7      320             2          33  \n",
      "8      343             1          15  \n",
      "9      316             2          25  \n",
      "10     343             0          29  \n",
      "11     326             0          23  \n",
      "12     395             2          42  \n",
      "13     347             1          30  \n",
      "14     150             1          15  \n",
      "15     339             1          28  \n",
      "16     315             4          36  \n",
      "17     339             2          42  \n",
      "18     329             3          33  \n",
      "19     390             2          36  \n",
      "20     445             2          21  \n",
      "21     329             1          32  \n",
      "22     275             1          29  \n",
      "23     386             0          32  \n",
      "24     355             2          71  \n",
      "25     474             0          40  \n",
      "26     194             1          30  \n",
      "27     275             3          27  \n",
      "28      55             1          22  \n",
      "29     272             2          68  \n",
      "...    ...           ...         ...  \n",
      "11543  560             1          36  \n",
      "11544   40             2          47  \n",
      "11545  601             1          28  \n",
      "11546   12             0          23  \n",
      "11547  584             2          45  \n",
      "11548  286             3          13  \n",
      "11549  563             0          29  \n",
      "11550  282             1          18  \n",
      "11551  445             0          16  \n",
      "11552   56             2          57  \n",
      "11553  460             4          41  \n",
      "11554  282             0          40  \n",
      "11555  443             0          71  \n",
      "11556  113             1          23  \n",
      "11557  570             1           9  \n",
      "11558  148             0          18  \n",
      "11559  566             1          23  \n",
      "11560  284             0          14  \n",
      "11561   99             2          40  \n",
      "11562  153             2          27  \n",
      "11563  591             0          15  \n",
      "11564  457             3          19  \n",
      "11565   46             0          14  \n",
      "11566  571             1          17  \n",
      "11567  634             0          42  \n",
      "11568  306             0          22  \n",
      "11569   87             1          23  \n",
      "11570  649             0          40  \n",
      "11571  286             2          46  \n",
      "11572  603             1          29  \n",
      "\n",
      "[22691 rows x 6 columns]\n",
      "0        1\n",
      "1        1\n",
      "2        1\n",
      "3        1\n",
      "4        1\n",
      "5        1\n",
      "6        1\n",
      "7        1\n",
      "8        1\n",
      "9        1\n",
      "10       1\n",
      "11       1\n",
      "12       1\n",
      "13       1\n",
      "14       1\n",
      "15       1\n",
      "16       1\n",
      "17       1\n",
      "18       1\n",
      "19       1\n",
      "20       1\n",
      "21       1\n",
      "22       1\n",
      "23       1\n",
      "24       1\n",
      "25       1\n",
      "26       1\n",
      "27       1\n",
      "28       1\n",
      "29       1\n",
      "        ..\n",
      "11543    0\n",
      "11544    0\n",
      "11545    0\n",
      "11546    0\n",
      "11547    0\n",
      "11548    0\n",
      "11549    0\n",
      "11550    0\n",
      "11551    0\n",
      "11552    0\n",
      "11553    0\n",
      "11554    0\n",
      "11555    0\n",
      "11556    0\n",
      "11557    0\n",
      "11558    0\n",
      "11559    0\n",
      "11560    0\n",
      "11561    0\n",
      "11562    0\n",
      "11563    0\n",
      "11564    0\n",
      "11565    0\n",
      "11566    0\n",
      "11567    0\n",
      "11568    0\n",
      "11569    0\n",
      "11570    0\n",
      "11571    0\n",
      "11572    0\n",
      "Name: Aggressive, Length: 22691, dtype: int64\n"
     ]
    }
   ],
   "source": [
    "X = total.drop([\"Aggressive\"], axis=1)\n",
    "print X\n",
    "y = total[\"Aggressive\"]\n",
    "print y\n",
    "X = StandardScaler().fit_transform(X)\n",
    "X_train, X_test, y_train, y_test = train_test_split(X, y, test_size=0.33, random_state=42)"
   ]
  },
  {
   "cell_type": "code",
   "execution_count": 23,
   "metadata": {
    "collapsed": true
   },
   "outputs": [],
   "source": [
    "scores = []\n",
    "classifiers = []\n",
    "nmin = 1\n",
    "nmax = 200\n",
    "for n in range(nmin, nmax):\n",
    "    forest = RandomForestClassifier(n_estimators = n)\n",
    "    forest.fit(X_train, y_train)\n",
    "    classifiers.append(forest)\n",
    "    scores.append(forest.score(X_test, y_test))"
   ]
  },
  {
   "cell_type": "code",
   "execution_count": 29,
   "metadata": {},
   "outputs": [
    {
     "name": "stdout",
     "output_type": "stream",
     "text": [
      "0.6823340899986647\n"
     ]
    }
   ],
   "source": [
    "amax = np.argmax(scores)\n",
    "print scores[amax]"
   ]
  },
  {
   "cell_type": "code",
   "execution_count": 25,
   "metadata": {},
   "outputs": [
    {
     "data": {
      "image/png": "[encoded data removed]",
      "text/plain": [
       "<matplotlib.figure.Figure at 0x2d8169978>"
      ]
     },
     "metadata": {},
     "output_type": "display_data"
    }
   ],
   "source": [
    "x = np.array([i for i in range(amax - 50, amax + 2)])\n",
    "scores = np.array(random_forest_scores)\n",
    "\n",
    "plt.figure(figsize=(20,5));\n",
    "plt.plot(x, [r * 100 for r in [scores[i] for i in x]]);\n",
    "plt.xticks(x, [str(i) for i in x])\n",
    "plt.grid(True)\n",
    "plt.ylabel(\"% Accuracy\")\n",
    "plt.xlabel(\"n Estimators\")\n",
    "plt.show();"
   ]
  },
  {
   "cell_type": "code",
   "execution_count": 28,
   "metadata": {},
   "outputs": [
    {
     "name": "stdout",
     "output_type": "stream",
     "text": [
      "77\n",
      "0.6737882227266658\n",
      "0.6789958605955402\n"
     ]
    }
   ],
   "source": [
    "print amax\n",
    "print scores[amax]\n",
    "print scores[54]"
   ]
  },
  {
   "cell_type": "code",
   "execution_count": null,
   "metadata": {
    "collapsed": true
   },
   "outputs": [],
   "source": []
  }
 ],
 "metadata": {
  "kernelspec": {
   "display_name": "Python 2",
   "language": "python",
   "name": "python2"
  },
  "language_info": {
   "codemirror_mode": {
    "name": "ipython",
    "version": 2
   },
   "file_extension": ".py",
   "mimetype": "text/x-python",
   "name": "python",
   "nbconvert_exporter": "python",
   "pygments_lexer": "ipython2",
   "version": "2.7.14"
  }
 },
 "nbformat": 4,
 "nbformat_minor": 2
}
